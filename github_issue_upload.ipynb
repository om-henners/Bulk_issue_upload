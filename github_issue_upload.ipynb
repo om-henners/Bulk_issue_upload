{
 "metadata": {
  "name": "",
  "signature": "sha256:e4415755271368d28925a7f327c3d73bde29ebfbfb8678da3bde71c7f9a7554a"
 },
 "nbformat": 3,
 "nbformat_minor": 0,
 "worksheets": [
  {
   "cells": [
    {
     "cell_type": "markdown",
     "metadata": {},
     "source": [
      "# Bulk uploading TSVs to markdown\n",
      "\n",
      "Turns out you can make your own github application which you can use to upload issues to github. Outside the standard Python library this uses `requests` and `requests_oauthlib`."
     ]
    },
    {
     "cell_type": "code",
     "collapsed": false,
     "input": [
      "from requests_oauthlib import OAuth2Session\n",
      "import csv\n",
      "import json"
     ],
     "language": "python",
     "metadata": {},
     "outputs": []
    },
    {
     "cell_type": "markdown",
     "metadata": {},
     "source": [
      "In your github repository create an application and get the client ID and the client Secret Key. Paste them in below."
     ]
    },
    {
     "cell_type": "code",
     "collapsed": false,
     "input": [
      "client_id = 'client ID'\n",
      "client_secret = 'Client secret key'"
     ],
     "language": "python",
     "metadata": {},
     "outputs": []
    },
    {
     "cell_type": "code",
     "collapsed": false,
     "input": [
      "authorization_base_url = 'https://github.com/login/oauth/authorize'\n",
      "token_url = 'https://github.com/login/oauth/access_token'"
     ],
     "language": "python",
     "metadata": {},
     "outputs": []
    },
    {
     "cell_type": "markdown",
     "metadata": {},
     "source": [
      "Create a session and make sure that the session scope is set correctly so that you can write to the repo. In this case it means we need scope of `repo` and `user`."
     ]
    },
    {
     "cell_type": "code",
     "collapsed": false,
     "input": [
      "github = OAuth2Session(client_id, scope=[\"repo\", \"user\"])"
     ],
     "language": "python",
     "metadata": {},
     "outputs": []
    },
    {
     "cell_type": "code",
     "collapsed": false,
     "input": [
      "authorization_url, state = github.authorization_url(authorization_base_url)"
     ],
     "language": "python",
     "metadata": {},
     "outputs": []
    },
    {
     "cell_type": "code",
     "collapsed": false,
     "input": [
      "print 'Please go here and authorize,', authorization_url"
     ],
     "language": "python",
     "metadata": {},
     "outputs": []
    },
    {
     "cell_type": "markdown",
     "metadata": {},
     "source": [
      "Paste in the URL github redirects you to after logging in. It will have a URL `code` parameter which is the important bit"
     ]
    },
    {
     "cell_type": "code",
     "collapsed": false,
     "input": [
      "redirect_response = \"Response URL\""
     ],
     "language": "python",
     "metadata": {},
     "outputs": []
    },
    {
     "cell_type": "code",
     "collapsed": false,
     "input": [
      "github.fetch_token(token_url, client_secret=client_secret, authorization_response=redirect_response)"
     ],
     "language": "python",
     "metadata": {},
     "outputs": []
    },
    {
     "cell_type": "markdown",
     "metadata": {},
     "source": [
      "Check that it all works - if the fetch tokens come up with warning after authorizing, start from the `OAuth2Session` again without the scope. The scope will be preserved."
     ]
    },
    {
     "cell_type": "code",
     "collapsed": false,
     "input": [
      "r = github.get('https://api.github.com/user')\n",
      "print r.content"
     ],
     "language": "python",
     "metadata": {},
     "outputs": []
    },
    {
     "cell_type": "code",
     "collapsed": false,
     "input": [
      "issue_url = \"https://api.github.com/repos/om-henners/Bulk_issue_upload/issues\""
     ],
     "language": "python",
     "metadata": {},
     "outputs": []
    },
    {
     "cell_type": "markdown",
     "metadata": {},
     "source": [
      "Read in from the TSV, and make a couple of changes to the data (to make sure milestone is an int if it exists, and that the labels are a list (record in the TSV as comma separated).\n",
      "\n",
      "TSV has columns: `title, body, assignee, milestone, labels, state`\n",
      "\n",
      "The only mandatory columns are `title` and `body`."
     ]
    },
    {
     "cell_type": "code",
     "collapsed": false,
     "input": [
      "responses = []\n",
      "\n",
      "with open(\"sample_issues.tsv\") as f:\n",
      "    rows = csv.DictReader(f, delimiter=\"\\t\")\n",
      "    for row in rows:\n",
      "        row[\"labels\"] = row[\"labels\"].split(\",\") if row[\"labels\"] else None\n",
      "        row[\"milestone\"] = int(row[\"milestone\"]) if row[\"milestone\"] else None\n",
      "        row = dict((k, v) for k, v in row.iteritems() if v)\n",
      "        print row\n",
      "        responses.append(github.post(issue_url, data=json.dumps(row)))"
     ],
     "language": "python",
     "metadata": {},
     "outputs": []
    },
    {
     "cell_type": "code",
     "collapsed": false,
     "input": [
      "responses[0].json()"
     ],
     "language": "python",
     "metadata": {},
     "outputs": []
    },
    {
     "cell_type": "markdown",
     "metadata": {},
     "source": [
      "Take a look at your repository - you should be good to go."
     ]
    }
   ],
   "metadata": {}
  }
 ]
}